{
 "cells": [
  {
   "cell_type": "code",
   "execution_count": 13,
   "metadata": {},
   "outputs": [],
   "source": [
    "# 2017-06-03 ~ 2021-07-01 의 일론 머스크의 트위터 크롤링\n",
    "import snscrape.modules.twitter as sntwitter # 트위터 크롤링 도구\n",
    "import csv # csv파일로 저장\n",
    "\n",
    "csvFile = open('data/elon_musk_tweet.csv', 'a', newline='', encoding='utf-8')# elon_musk_tweet.csv 파일로 저장\n",
    "\n",
    "csvWriter = csv.writer(csvFile)\n",
    "csvWriter.writerow(['date','tweet',])\n",
    "#until 날짜는 포함안하기 때문에 2021-07-02까지로 설정하여 7월 1일까지의 데이터를 추출\n",
    "for i,tweet in enumerate(sntwitter.TwitterSearchScraper('from:@elonMusk since:2017-06-03 until:2021-07-02 -filter:links -filter:replies').get_items()):\n",
    "    csvWriter.writerow([tweet.date, tweet.content]) #date와 tweet내용만을 추출\n",
    "csvFile.close()"
   ]
  },
  {
   "cell_type": "markdown",
   "metadata": {},
   "source": [
    "![error](image/wordbreak.PNG)"
   ]
  },
  {
   "cell_type": "markdown",
   "metadata": {},
   "source": [
    "인코딩을 utf-8 규격으로 하였는데 엑셀에서 csv파일을 열 때 디코딩이 ANSI로 되어있어 글자가 깨지는 현상이 발생함.\n",
    "메모장을 중계 수단으로 활용하여 ANSI포맷으로 바꾸어주는 작업을 하여 문제를 해결하였다.\n",
    "![error](image/ansi.PNG)\n",
    "![error](image/wordfix.PNG)"
   ]
  },
  {
   "cell_type": "code",
   "execution_count": null,
   "metadata": {},
   "outputs": [],
   "source": []
  }
 ],
 "metadata": {
  "kernelspec": {
   "display_name": "Python 3",
   "language": "python",
   "name": "python3"
  },
  "language_info": {
   "codemirror_mode": {
    "name": "ipython",
    "version": 3
   },
   "file_extension": ".py",
   "mimetype": "text/x-python",
   "name": "python",
   "nbconvert_exporter": "python",
   "pygments_lexer": "ipython3",
   "version": "3.7.6"
  }
 },
 "nbformat": 4,
 "nbformat_minor": 4
}
